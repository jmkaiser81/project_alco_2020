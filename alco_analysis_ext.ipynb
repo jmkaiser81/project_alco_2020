{
 "cells": [
  {
   "cell_type": "code",
   "execution_count": 1,
   "metadata": {},
   "outputs": [],
   "source": [
    "%matplotlib inline\n",
    "\n",
    "import pandas as pd\n",
    "import scipy.stats\n",
    "import matplotlib.pyplot as plt\n",
    "import numpy as np\n",
    "import math, csv\n",
    "import sqlite3"
   ]
  },
  {
   "cell_type": "code",
   "execution_count": 28,
   "metadata": {},
   "outputs": [],
   "source": [
    "# Mean median mode\n",
    "# Graphs(boxplot barplot scatter plot etc"
   ]
  },
  {
   "cell_type": "code",
   "execution_count": 3,
   "metadata": {},
   "outputs": [],
   "source": [
    "\n",
    "def store_data_in_db(csv_file):\n",
    "    \"\"\"\n",
    "    store data from csv file to db\n",
    "    \"\"\"\n",
    "    contents = []\n",
    "    with open('alcocountry.csv') as file:\n",
    "        csv_reader = csv.reader(file)\n",
    "        for i, row in enumerate(csv_reader):\n",
    "            contents.append(row)\n",
    "    header = contents[0]  # column names\n",
    "    try:\n",
    "        con = sqlite3.connect('alcoholdata.db')\n",
    "        print('-- connected to db --')\n",
    "        curs = con.cursor()\n",
    "        query = 'CREATE TABLE IF NOT EXISTS AlcoholTable (ID integer primary key AUTOINCREMENT NOT NULL, '\n",
    "\n",
    "        #               # country \n",
    "        column_types = ['CHAR (30)', 'INTEGER', 'INTEGER', 'INTEGER', 'REAL']\n",
    "        cols = zip(header, column_types)\n",
    "        ncols = map(lambda x: ' '.join(x) + ', ', cols)\n",
    "        final_str = (' '.join(ncols))[:-2]\n",
    "        query += final_str + ');'\n",
    "        curs.execute(query)\n",
    "        print('-- AlcoholTable created --.')\n",
    "        # print(query)\n",
    "        column_names = ', '.join(header)\n",
    "        query = f\"INSERT OR REPLACE INTO AlcoholTable({column_names}) VALUES (?, ?, ?, ?, ?);\"\n",
    "        # insert data into the table\n",
    "        for row in contents[1:]:\n",
    "            # convert the data from str to the respective types\n",
    "            row[0], row[1], row[2], row[3], row[4] = row[0], int(row[1]), int(row[2]), int(row[3]), float(row[4])\n",
    "            curs.execute(query, (tuple(row)))\n",
    "        con.commit()\n",
    "        print('Data stored in db successfully')\n",
    "        return header  # return the column names for future use\n",
    "    except sqlite3.Error as e:\n",
    "        print(e, type(e))\n",
    "                \n"
   ]
  },
  {
   "cell_type": "code",
   "execution_count": 4,
   "metadata": {},
   "outputs": [],
   "source": [
    "def load_data_from_db():\n",
    "    \"\"\"\n",
    "    load data from the db\n",
    "    \"\"\"\n",
    "    data = []\n",
    "    with sqlite3.connect('alcoholdata.db') as con:\n",
    "        curs = con.cursor()\n",
    "        query = 'SELECT * FROM AlcoholTable'\n",
    "        curs = con.cursor()\n",
    "        curs.execute(query)\n",
    "        if curs:\n",
    "            for row in curs:\n",
    "                data.append(row[1:])\n",
    "    return data\n",
    "                "
   ]
  },
  {
   "cell_type": "code",
   "execution_count": 5,
   "metadata": {},
   "outputs": [],
   "source": [
    "def run_query(query):\n",
    "    res = []\n",
    "    with sqlite3.connect('alcoholdata.db') as con:\n",
    "        curs = con.cursor()\n",
    "        curs.execute(query)\n",
    "        if curs:\n",
    "            for result in curs:\n",
    "                res.append(result)\n",
    "    return res"
   ]
  },
  {
   "cell_type": "code",
   "execution_count": 6,
   "metadata": {},
   "outputs": [
    {
     "name": "stdout",
     "output_type": "stream",
     "text": [
      "-- connected to db --\n",
      "-- AlcoholTable created --.\n",
      "Data stored in db successfully\n"
     ]
    }
   ],
   "source": [
    "csv_file_name = \"alcocountry.csv\"\n",
    "columns = store_data_in_db(csv_file_name)  "
   ]
  },
  {
   "cell_type": "code",
   "execution_count": 7,
   "metadata": {},
   "outputs": [],
   "source": [
    "data = load_data_from_db()"
   ]
  },
  {
   "cell_type": "code",
   "execution_count": 8,
   "metadata": {},
   "outputs": [
    {
     "data": {
      "text/html": [
       "<div>\n",
       "<style scoped>\n",
       "    .dataframe tbody tr th:only-of-type {\n",
       "        vertical-align: middle;\n",
       "    }\n",
       "\n",
       "    .dataframe tbody tr th {\n",
       "        vertical-align: top;\n",
       "    }\n",
       "\n",
       "    .dataframe thead th {\n",
       "        text-align: right;\n",
       "    }\n",
       "</style>\n",
       "<table border=\"1\" class=\"dataframe\">\n",
       "  <thead>\n",
       "    <tr style=\"text-align: right;\">\n",
       "      <th></th>\n",
       "      <th>country</th>\n",
       "      <th>beer_servings</th>\n",
       "      <th>spirit_servings</th>\n",
       "      <th>wine_servings</th>\n",
       "      <th>total_litres_of_pure_alcohol</th>\n",
       "    </tr>\n",
       "  </thead>\n",
       "  <tbody>\n",
       "    <tr>\n",
       "      <td>0</td>\n",
       "      <td>Afghanistan</td>\n",
       "      <td>0</td>\n",
       "      <td>0</td>\n",
       "      <td>0</td>\n",
       "      <td>0.0</td>\n",
       "    </tr>\n",
       "    <tr>\n",
       "      <td>1</td>\n",
       "      <td>Albania</td>\n",
       "      <td>89</td>\n",
       "      <td>132</td>\n",
       "      <td>54</td>\n",
       "      <td>4.9</td>\n",
       "    </tr>\n",
       "    <tr>\n",
       "      <td>2</td>\n",
       "      <td>Algeria</td>\n",
       "      <td>25</td>\n",
       "      <td>0</td>\n",
       "      <td>14</td>\n",
       "      <td>0.7</td>\n",
       "    </tr>\n",
       "    <tr>\n",
       "      <td>3</td>\n",
       "      <td>Andorra</td>\n",
       "      <td>245</td>\n",
       "      <td>138</td>\n",
       "      <td>312</td>\n",
       "      <td>12.4</td>\n",
       "    </tr>\n",
       "    <tr>\n",
       "      <td>4</td>\n",
       "      <td>Angola</td>\n",
       "      <td>217</td>\n",
       "      <td>57</td>\n",
       "      <td>45</td>\n",
       "      <td>5.9</td>\n",
       "    </tr>\n",
       "    <tr>\n",
       "      <td>5</td>\n",
       "      <td>Antigua &amp; Barbuda</td>\n",
       "      <td>102</td>\n",
       "      <td>128</td>\n",
       "      <td>45</td>\n",
       "      <td>4.9</td>\n",
       "    </tr>\n",
       "    <tr>\n",
       "      <td>6</td>\n",
       "      <td>Argentina</td>\n",
       "      <td>193</td>\n",
       "      <td>25</td>\n",
       "      <td>221</td>\n",
       "      <td>8.3</td>\n",
       "    </tr>\n",
       "    <tr>\n",
       "      <td>7</td>\n",
       "      <td>Armenia</td>\n",
       "      <td>21</td>\n",
       "      <td>179</td>\n",
       "      <td>11</td>\n",
       "      <td>3.8</td>\n",
       "    </tr>\n",
       "    <tr>\n",
       "      <td>8</td>\n",
       "      <td>Australia</td>\n",
       "      <td>261</td>\n",
       "      <td>72</td>\n",
       "      <td>212</td>\n",
       "      <td>10.4</td>\n",
       "    </tr>\n",
       "    <tr>\n",
       "      <td>9</td>\n",
       "      <td>Austria</td>\n",
       "      <td>279</td>\n",
       "      <td>75</td>\n",
       "      <td>191</td>\n",
       "      <td>9.7</td>\n",
       "    </tr>\n",
       "  </tbody>\n",
       "</table>\n",
       "</div>"
      ],
      "text/plain": [
       "             country  beer_servings  spirit_servings  wine_servings  \\\n",
       "0        Afghanistan              0                0              0   \n",
       "1            Albania             89              132             54   \n",
       "2            Algeria             25                0             14   \n",
       "3            Andorra            245              138            312   \n",
       "4             Angola            217               57             45   \n",
       "5  Antigua & Barbuda            102              128             45   \n",
       "6          Argentina            193               25            221   \n",
       "7            Armenia             21              179             11   \n",
       "8          Australia            261               72            212   \n",
       "9            Austria            279               75            191   \n",
       "\n",
       "   total_litres_of_pure_alcohol  \n",
       "0                           0.0  \n",
       "1                           4.9  \n",
       "2                           0.7  \n",
       "3                          12.4  \n",
       "4                           5.9  \n",
       "5                           4.9  \n",
       "6                           8.3  \n",
       "7                           3.8  \n",
       "8                          10.4  \n",
       "9                           9.7  "
      ]
     },
     "execution_count": 8,
     "metadata": {},
     "output_type": "execute_result"
    }
   ],
   "source": [
    "#. Using the data\n",
    "df = pd.DataFrame(data, columns=columns) # add the column names to the data retrieved\n",
    "df.head(10)  # preview the data"
   ]
  },
  {
   "cell_type": "code",
   "execution_count": 9,
   "metadata": {},
   "outputs": [
    {
     "data": {
      "text/html": [
       "<div>\n",
       "<style scoped>\n",
       "    .dataframe tbody tr th:only-of-type {\n",
       "        vertical-align: middle;\n",
       "    }\n",
       "\n",
       "    .dataframe tbody tr th {\n",
       "        vertical-align: top;\n",
       "    }\n",
       "\n",
       "    .dataframe thead th {\n",
       "        text-align: right;\n",
       "    }\n",
       "</style>\n",
       "<table border=\"1\" class=\"dataframe\">\n",
       "  <thead>\n",
       "    <tr style=\"text-align: right;\">\n",
       "      <th></th>\n",
       "      <th>beer_servings</th>\n",
       "      <th>spirit_servings</th>\n",
       "      <th>wine_servings</th>\n",
       "      <th>total_litres_of_pure_alcohol</th>\n",
       "    </tr>\n",
       "  </thead>\n",
       "  <tbody>\n",
       "    <tr>\n",
       "      <td>count</td>\n",
       "      <td>386.000000</td>\n",
       "      <td>386.000000</td>\n",
       "      <td>386.000000</td>\n",
       "      <td>386.000000</td>\n",
       "    </tr>\n",
       "    <tr>\n",
       "      <td>mean</td>\n",
       "      <td>106.160622</td>\n",
       "      <td>80.994819</td>\n",
       "      <td>49.450777</td>\n",
       "      <td>4.717098</td>\n",
       "    </tr>\n",
       "    <tr>\n",
       "      <td>std</td>\n",
       "      <td>101.011662</td>\n",
       "      <td>88.169583</td>\n",
       "      <td>79.594028</td>\n",
       "      <td>3.768395</td>\n",
       "    </tr>\n",
       "    <tr>\n",
       "      <td>min</td>\n",
       "      <td>0.000000</td>\n",
       "      <td>0.000000</td>\n",
       "      <td>0.000000</td>\n",
       "      <td>0.000000</td>\n",
       "    </tr>\n",
       "    <tr>\n",
       "      <td>25%</td>\n",
       "      <td>20.000000</td>\n",
       "      <td>4.000000</td>\n",
       "      <td>1.000000</td>\n",
       "      <td>1.300000</td>\n",
       "    </tr>\n",
       "    <tr>\n",
       "      <td>50%</td>\n",
       "      <td>76.000000</td>\n",
       "      <td>56.000000</td>\n",
       "      <td>8.000000</td>\n",
       "      <td>4.200000</td>\n",
       "    </tr>\n",
       "    <tr>\n",
       "      <td>75%</td>\n",
       "      <td>188.000000</td>\n",
       "      <td>128.000000</td>\n",
       "      <td>59.000000</td>\n",
       "      <td>7.200000</td>\n",
       "    </tr>\n",
       "    <tr>\n",
       "      <td>max</td>\n",
       "      <td>376.000000</td>\n",
       "      <td>438.000000</td>\n",
       "      <td>370.000000</td>\n",
       "      <td>14.400000</td>\n",
       "    </tr>\n",
       "    <tr>\n",
       "      <td>range</td>\n",
       "      <td>376.000000</td>\n",
       "      <td>438.000000</td>\n",
       "      <td>370.000000</td>\n",
       "      <td>14.400000</td>\n",
       "    </tr>\n",
       "    <tr>\n",
       "      <td>sum</td>\n",
       "      <td>40978.000000</td>\n",
       "      <td>31264.000000</td>\n",
       "      <td>19088.000000</td>\n",
       "      <td>1820.800000</td>\n",
       "    </tr>\n",
       "  </tbody>\n",
       "</table>\n",
       "</div>"
      ],
      "text/plain": [
       "       beer_servings  spirit_servings  wine_servings  \\\n",
       "count     386.000000       386.000000     386.000000   \n",
       "mean      106.160622        80.994819      49.450777   \n",
       "std       101.011662        88.169583      79.594028   \n",
       "min         0.000000         0.000000       0.000000   \n",
       "25%        20.000000         4.000000       1.000000   \n",
       "50%        76.000000        56.000000       8.000000   \n",
       "75%       188.000000       128.000000      59.000000   \n",
       "max       376.000000       438.000000     370.000000   \n",
       "range     376.000000       438.000000     370.000000   \n",
       "sum     40978.000000     31264.000000   19088.000000   \n",
       "\n",
       "       total_litres_of_pure_alcohol  \n",
       "count                    386.000000  \n",
       "mean                       4.717098  \n",
       "std                        3.768395  \n",
       "min                        0.000000  \n",
       "25%                        1.300000  \n",
       "50%                        4.200000  \n",
       "75%                        7.200000  \n",
       "max                       14.400000  \n",
       "range                     14.400000  \n",
       "sum                     1820.800000  "
      ]
     },
     "execution_count": 9,
     "metadata": {},
     "output_type": "execute_result"
    }
   ],
   "source": [
    "# obtain useful statistics such as min, max, standard deviation, count, etc.\n",
    "stats = df.describe()\n",
    "cols = stats.columns\n",
    "ranges = {}\n",
    "sum_ = {}\n",
    "for col in cols:\n",
    "    ranges[col] = stats[col]['max'] - stats[col]['min']\n",
    "    sum_[col] = sum(df[col])\n",
    "stats = stats.append(pd.Series(ranges, name='range'), ignore_index=False)\n",
    "stats = stats.append(pd.Series(sum_, name='sum'), ignore_index=False)\n",
    "stats"
   ]
  },
  {
   "cell_type": "code",
   "execution_count": 10,
   "metadata": {},
   "outputs": [
    {
     "data": {
      "text/plain": [
       "<matplotlib.axes._subplots.AxesSubplot at 0x1a17f6f790>"
      ]
     },
     "execution_count": 10,
     "metadata": {},
     "output_type": "execute_result"
    },
    {
     "data": {
      "image/png": "[encoded data removed]",
      "text/plain": [
       "<Figure size 432x288 with 1 Axes>"
      ]
     },
     "metadata": {
      "needs_background": "light"
     },
     "output_type": "display_data"
    }
   ],
   "source": [
    "# visualizing the data\n",
    "df.plot(kind='scatter',x='beer_servings',y='spirit_servings',color='red')\n",
    "# the plot seems to show that there's no relationship between both columns (beer_servings and spirit_servings)"
   ]
  },
  {
   "cell_type": "code",
   "execution_count": 11,
   "metadata": {},
   "outputs": [
    {
     "data": {
      "text/plain": [
       "<matplotlib.axes._subplots.AxesSubplot at 0x1053fff90>"
      ]
     },
     "execution_count": 11,
     "metadata": {},
     "output_type": "execute_result"
    },
    {
     "data": {
      "image/png": "[encoded data removed]",
      "text/plain": [
       "<Figure size 432x288 with 1 Axes>"
      ]
     },
     "metadata": {
      "needs_background": "light"
     },
     "output_type": "display_data"
    }
   ],
   "source": [
    "df.plot(kind='scatter',x='beer_servings',y='wine_servings',color='red')\n",
    "# the plot seems to show that there's no relationship between both columns (beer_servings and wine_servings)"
   ]
  },
  {
   "cell_type": "code",
   "execution_count": 12,
   "metadata": {},
   "outputs": [
    {
     "data": {
      "text/plain": [
       "<matplotlib.axes._subplots.AxesSubplot at 0x1a187f6450>"
      ]
     },
     "execution_count": 12,
     "metadata": {},
     "output_type": "execute_result"
    },
    {
     "data": {
      "image/png": "[encoded data removed]",
      "text/plain": [
       "<Figure size 864x576 with 1 Axes>"
      ]
     },
     "metadata": {
      "needs_background": "light"
     },
     "output_type": "display_data"
    }
   ],
   "source": [
    "df.plot(kind='box', figsize=(12, 8))\n",
    "# boxplot of our data, showing its distribution"
   ]
  },
  {
   "cell_type": "code",
   "execution_count": 13,
   "metadata": {},
   "outputs": [
    {
     "data": {
      "text/html": [
       "<div>\n",
       "<style scoped>\n",
       "    .dataframe tbody tr th:only-of-type {\n",
       "        vertical-align: middle;\n",
       "    }\n",
       "\n",
       "    .dataframe tbody tr th {\n",
       "        vertical-align: top;\n",
       "    }\n",
       "\n",
       "    .dataframe thead th {\n",
       "        text-align: right;\n",
       "    }\n",
       "</style>\n",
       "<table border=\"1\" class=\"dataframe\">\n",
       "  <thead>\n",
       "    <tr style=\"text-align: right;\">\n",
       "      <th></th>\n",
       "      <th>beer_servings</th>\n",
       "      <th>spirit_servings</th>\n",
       "      <th>wine_servings</th>\n",
       "      <th>total_litres_of_pure_alcohol</th>\n",
       "    </tr>\n",
       "  </thead>\n",
       "  <tbody>\n",
       "    <tr>\n",
       "      <td>beer_servings</td>\n",
       "      <td>1.000000</td>\n",
       "      <td>0.458819</td>\n",
       "      <td>0.527172</td>\n",
       "      <td>0.835839</td>\n",
       "    </tr>\n",
       "    <tr>\n",
       "      <td>spirit_servings</td>\n",
       "      <td>0.458819</td>\n",
       "      <td>1.000000</td>\n",
       "      <td>0.194797</td>\n",
       "      <td>0.654968</td>\n",
       "    </tr>\n",
       "    <tr>\n",
       "      <td>wine_servings</td>\n",
       "      <td>0.527172</td>\n",
       "      <td>0.194797</td>\n",
       "      <td>1.000000</td>\n",
       "      <td>0.667598</td>\n",
       "    </tr>\n",
       "    <tr>\n",
       "      <td>total_litres_of_pure_alcohol</td>\n",
       "      <td>0.835839</td>\n",
       "      <td>0.654968</td>\n",
       "      <td>0.667598</td>\n",
       "      <td>1.000000</td>\n",
       "    </tr>\n",
       "  </tbody>\n",
       "</table>\n",
       "</div>"
      ],
      "text/plain": [
       "                              beer_servings  spirit_servings  wine_servings  \\\n",
       "beer_servings                      1.000000         0.458819       0.527172   \n",
       "spirit_servings                    0.458819         1.000000       0.194797   \n",
       "wine_servings                      0.527172         0.194797       1.000000   \n",
       "total_litres_of_pure_alcohol       0.835839         0.654968       0.667598   \n",
       "\n",
       "                              total_litres_of_pure_alcohol  \n",
       "beer_servings                                     0.835839  \n",
       "spirit_servings                                   0.654968  \n",
       "wine_servings                                     0.667598  \n",
       "total_litres_of_pure_alcohol                      1.000000  "
      ]
     },
     "execution_count": 13,
     "metadata": {},
     "output_type": "execute_result"
    }
   ],
   "source": [
    "# correlation between pairs\n",
    "df.corr()\n",
    "# we see that there exists some correlation/relationship between beer_servings and wine_servings, and a huge correlation\n",
    "# between total litres of pure alcohol and beer_servings.\n",
    "# this indicates that the total liters is influenced majorly by beer servings"
   ]
  },
  {
   "cell_type": "code",
   "execution_count": 14,
   "metadata": {},
   "outputs": [],
   "source": [
    "# let us investigate whether there's a significant relationship between wine_servings and beer_servings\n",
    "# we will utilize the principle of hypothesis testing to determine if there's a significant relationship between beer_servings\n",
    "# and wine_servings\n",
    "\n",
    "#set up the hypothesis\n",
    "#  Ho: There is no relationship between wine servings and beer servings (null hypothesis)\n",
    "#  H1: Ho is not true, that is, there exists a relationship  (alternate hypothesis)"
   ]
  },
  {
   "cell_type": "code",
   "execution_count": 15,
   "metadata": {},
   "outputs": [],
   "source": [
    "# we shall utilize the scipy.stats library for this test\n",
    "# import scipy\n",
    "import scipy.stats"
   ]
  },
  {
   "cell_type": "code",
   "execution_count": 16,
   "metadata": {},
   "outputs": [],
   "source": [
    "#  The statistical test to be used is a simple linear regression. \n",
    "#  This is because the simple linear regression is used to estimate the relationship between two quantitative variables."
   ]
  },
  {
   "cell_type": "code",
   "execution_count": 17,
   "metadata": {},
   "outputs": [
    {
     "name": "stdout",
     "output_type": "stream",
     "text": [
      "slope: 0.415395    intercept: 5.352208\n",
      "p-value: 0.000000    r-value: 5.271717e-01\n",
      "R-squared: 0.277910\n"
     ]
    }
   ],
   "source": [
    "a = df['beer_servings']\n",
    "b = df['wine_servings']\n",
    "result = scipy.stats.linregress(a, b)\n",
    "slope, intercept, r_value, p_value, std_err = result\n",
    "print(\"slope: %f    intercept: %f\" % (slope, intercept))\n",
    "print(\"p-value: %f    r-value: %e\"% (p_value, r_value))\n",
    "print(\"R-squared: %f\" % r_value**2)\n",
    "\n",
    "# This regression model accounts/explains for 27.8% (R-squared * 100) of the variance in the entire data\n",
    "# we observe that the p-value is 0, thus, we reject the null hypothesis (H0), \n",
    "# this implies that there's actually a significant relationship between beer_servings and wine_servings"
   ]
  },
  {
   "cell_type": "code",
   "execution_count": 18,
   "metadata": {},
   "outputs": [
    {
     "data": {
      "image/png": "[encoded data removed]",
      "text/plain": [
       "<Figure size 432x288 with 1 Axes>"
      ]
     },
     "metadata": {
      "needs_background": "light"
     },
     "output_type": "display_data"
    }
   ],
   "source": [
    "plt.plot(a, b, 'o', label='original data')\n",
    "plt.plot(a, intercept + slope*a, 'r', label='fitted line')\n",
    "plt.legend()\n",
    "plt.show()\n",
    "\n",
    "# so we know that the beer_servings and wine_servings are related for any given country,\n",
    "# this implies that most people drinking beer would also drink wine, and vice versa."
   ]
  },
  {
   "cell_type": "code",
   "execution_count": 19,
   "metadata": {},
   "outputs": [
    {
     "name": "stdout",
     "output_type": "stream",
     "text": [
      "highest [('Namibia',)]\n",
      "lowest [('Afghanistan',), ('Bangladesh',), ('Cook Islands',), ('North Korea',), ('Iran',), ('Kuwait',), ('Libya',), ('Maldives',), ('Marshall Islands',), ('Mauritania',), ('Monaco',), ('Pakistan',), ('San Marino',), ('Saudi Arabia',), ('Somalia',)]\n"
     ]
    }
   ],
   "source": [
    "# get the country with the highest beer servings using sql query\n",
    "result = run_query('select beer_servings from AlcoholTable order by beer_servings DESC;')\n",
    "highest = result[0][0]\n",
    "lowest = result[-1][0]\n",
    "print('highest', \n",
    "      run_query('select DISTINCT country from AlcoholTable where beer_servings ='+str(highest))\n",
    "     )\n",
    "print('lowest',\n",
    "     run_query('select DISTINCT country from AlcoholTable where beer_servings ='+str(lowest))\n",
    "     )"
   ]
  },
  {
   "cell_type": "code",
   "execution_count": 20,
   "metadata": {},
   "outputs": [
    {
     "name": "stdout",
     "output_type": "stream",
     "text": [
      "highest [('Belarus',)]\n",
      "lowest [('Afghanistan',), ('Bangladesh',), ('North Korea',), ('Iran',), ('Kuwait',), ('Libya',), ('Maldives',), ('Marshall Islands',), ('Mauritania',), ('Monaco',), ('Pakistan',), ('San Marino',), ('Somalia',)]\n"
     ]
    }
   ],
   "source": [
    "# get the country with the highest total litres of pure alcohol using sql query\n",
    "\n",
    "result = run_query('select total_litres_of_pure_alcohol from AlcoholTable order by total_litres_of_pure_alcohol DESC;')\n",
    "highest = result[0][0]\n",
    "lowest = result[-1][0]\n",
    "print('highest', \n",
    "      run_query('select DISTINCT country from AlcoholTable where total_litres_of_pure_alcohol ='+str(highest))\n",
    "     )\n",
    "print('lowest',\n",
    "     run_query('select DISTINCT country from AlcoholTable where total_litres_of_pure_alcohol ='+str(lowest))\n",
    "     )\n",
    "\n",
    "# Belarus has the highest alcohol consumption"
   ]
  },
  {
   "cell_type": "code",
   "execution_count": 21,
   "metadata": {},
   "outputs": [
    {
     "name": "stdout",
     "output_type": "stream",
     "text": [
      "highest [('Grenada',)]\n",
      "lowest [('Afghanistan',), ('Algeria',), ('Bangladesh',), ('Bhutan',), ('Burundi',), ('North Korea',), ('Equatorial Guinea',), ('Eritrea',), ('Gambia',), ('Guinea',), ('Iran',), ('Kuwait',), ('Laos',), ('Libya',), ('Maldives',), ('Marshall Islands',), ('Mauritania',), ('Monaco',), ('Nauru',), ('Pakistan',), ('San Marino',), ('Somalia',), ('Yemen',)]\n"
     ]
    }
   ],
   "source": [
    "# get the country with the highest spirit servings using sql query\n",
    "\n",
    "result = run_query('select spirit_servings from AlcoholTable order by spirit_servings DESC;')\n",
    "highest = result[0][0]\n",
    "lowest = result[-1][0]\n",
    "print('highest', \n",
    "      run_query('select DISTINCT country from AlcoholTable where spirit_servings ='+str(highest))\n",
    "     )\n",
    "print('lowest',\n",
    "     run_query('select DISTINCT country from AlcoholTable where spirit_servings ='+str(lowest))\n",
    "     )"
   ]
  },
  {
   "cell_type": "code",
   "execution_count": 22,
   "metadata": {},
   "outputs": [
    {
     "name": "stdout",
     "output_type": "stream",
     "text": [
      "highest [('France',)]\n",
      "lowest [('Afghanistan',), ('Bangladesh',), ('Bhutan',), ('Burundi',), ('North Korea',), ('Eritrea',), ('Ethiopia',), ('India',), ('Indonesia',), ('Iran',), ('Iraq',), ('Kuwait',), ('Lesotho',), ('Libya',), ('Malaysia',), ('Maldives',), ('Marshall Islands',), ('Mauritania',), ('Monaco',), ('Myanmar',), ('Nepal',), ('Pakistan',), ('Rwanda',), ('San Marino',), ('Saudi Arabia',), ('Somalia',), ('Sri Lanka',), ('Sudan',), ('Tajikistan',), ('Uganda',), ('Yemen',)]\n"
     ]
    }
   ],
   "source": [
    "# get the country with the highest wine servings using sql query\n",
    "\n",
    "result = run_query('select wine_servings from AlcoholTable order by wine_servings DESC;')\n",
    "highest = result[0][0]\n",
    "lowest = result[-1][0]\n",
    "print('highest', \n",
    "      run_query('select DISTINCT country from AlcoholTable where wine_servings ='+str(highest))\n",
    "     )\n",
    "print('lowest',\n",
    "     run_query('select DISTINCT country from AlcoholTable where wine_servings ='+str(lowest))\n",
    "     )\n"
   ]
  },
  {
   "cell_type": "code",
   "execution_count": 23,
   "metadata": {},
   "outputs": [],
   "source": [
    "# it turns out that Afghanistan has the lowest servings in beer, spirit and wine!\n",
    "# France has the highest wine consumption, Grenada the highest spirit consumption and Belarus the highest beer consumption"
   ]
  },
  {
   "cell_type": "code",
   "execution_count": 24,
   "metadata": {},
   "outputs": [],
   "source": [
    "# other extensional analysis: Ordinary Least Squares\n",
    "from statsmodels.formula.api import ols"
   ]
  },
  {
   "cell_type": "code",
   "execution_count": 25,
   "metadata": {},
   "outputs": [
    {
     "data": {
      "text/html": [
       "<table class=\"simpletable\">\n",
       "<caption>OLS Regression Results</caption>\n",
       "<tr>\n",
       "  <th>Dep. Variable:</th>    <td>total_litres_of_pure_alcohol</td> <th>  R-squared:         </th> <td>   0.874</td> \n",
       "</tr>\n",
       "<tr>\n",
       "  <th>Model:</th>                         <td>OLS</td>             <th>  Adj. R-squared:    </th> <td>   0.873</td> \n",
       "</tr>\n",
       "<tr>\n",
       "  <th>Method:</th>                   <td>Least Squares</td>        <th>  F-statistic:       </th> <td>   884.6</td> \n",
       "</tr>\n",
       "<tr>\n",
       "  <th>Date:</th>                   <td>Thu, 28 May 2020</td>       <th>  Prob (F-statistic):</th> <td>1.67e-171</td>\n",
       "</tr>\n",
       "<tr>\n",
       "  <th>Time:</th>                       <td>21:02:07</td>           <th>  Log-Likelihood:    </th> <td> -659.24</td> \n",
       "</tr>\n",
       "<tr>\n",
       "  <th>No. Observations:</th>            <td>   386</td>            <th>  AIC:               </th> <td>   1326.</td> \n",
       "</tr>\n",
       "<tr>\n",
       "  <th>Df Residuals:</th>                <td>   382</td>            <th>  BIC:               </th> <td>   1342.</td> \n",
       "</tr>\n",
       "<tr>\n",
       "  <th>Df Model:</th>                    <td>     3</td>            <th>                     </th>     <td> </td>    \n",
       "</tr>\n",
       "<tr>\n",
       "  <th>Covariance Type:</th>            <td>nonrobust</td>          <th>                     </th>     <td> </td>    \n",
       "</tr>\n",
       "</table>\n",
       "<table class=\"simpletable\">\n",
       "<tr>\n",
       "         <td></td>            <th>coef</th>     <th>std err</th>      <th>t</th>      <th>P>|t|</th>  <th>[0.025</th>    <th>0.975]</th>  \n",
       "</tr>\n",
       "<tr>\n",
       "  <th>Intercept</th>       <td>    0.7224</td> <td>    0.105</td> <td>    6.883</td> <td> 0.000</td> <td>    0.516</td> <td>    0.929</td>\n",
       "</tr>\n",
       "<tr>\n",
       "  <th>beer_servings</th>   <td>    0.0183</td> <td>    0.001</td> <td>   20.768</td> <td> 0.000</td> <td>    0.017</td> <td>    0.020</td>\n",
       "</tr>\n",
       "<tr>\n",
       "  <th>wine_servings</th>   <td>    0.0160</td> <td>    0.001</td> <td>   15.797</td> <td> 0.000</td> <td>    0.014</td> <td>    0.018</td>\n",
       "</tr>\n",
       "<tr>\n",
       "  <th>spirit_servings</th> <td>    0.0156</td> <td>    0.001</td> <td>   17.787</td> <td> 0.000</td> <td>    0.014</td> <td>    0.017</td>\n",
       "</tr>\n",
       "</table>\n",
       "<table class=\"simpletable\">\n",
       "<tr>\n",
       "  <th>Omnibus:</th>       <td>298.001</td> <th>  Durbin-Watson:     </th> <td>   1.956</td>\n",
       "</tr>\n",
       "<tr>\n",
       "  <th>Prob(Omnibus):</th> <td> 0.000</td>  <th>  Jarque-Bera (JB):  </th> <td>3187.492</td>\n",
       "</tr>\n",
       "<tr>\n",
       "  <th>Skew:</th>          <td> 3.394</td>  <th>  Prob(JB):          </th> <td>    0.00</td>\n",
       "</tr>\n",
       "<tr>\n",
       "  <th>Kurtosis:</th>      <td>15.333</td>  <th>  Cond. No.          </th> <td>    289.</td>\n",
       "</tr>\n",
       "</table><br/><br/>Warnings:<br/>[1] Standard Errors assume that the covariance matrix of the errors is correctly specified."
      ],
      "text/plain": [
       "<class 'statsmodels.iolib.summary.Summary'>\n",
       "\"\"\"\n",
       "                                 OLS Regression Results                                 \n",
       "========================================================================================\n",
       "Dep. Variable:     total_litres_of_pure_alcohol   R-squared:                       0.874\n",
       "Model:                                      OLS   Adj. R-squared:                  0.873\n",
       "Method:                           Least Squares   F-statistic:                     884.6\n",
       "Date:                          Thu, 28 May 2020   Prob (F-statistic):          1.67e-171\n",
       "Time:                                  21:02:07   Log-Likelihood:                -659.24\n",
       "No. Observations:                           386   AIC:                             1326.\n",
       "Df Residuals:                               382   BIC:                             1342.\n",
       "Df Model:                                     3                                         \n",
       "Covariance Type:                      nonrobust                                         \n",
       "===================================================================================\n",
       "                      coef    std err          t      P>|t|      [0.025      0.975]\n",
       "-----------------------------------------------------------------------------------\n",
       "Intercept           0.7224      0.105      6.883      0.000       0.516       0.929\n",
       "beer_servings       0.0183      0.001     20.768      0.000       0.017       0.020\n",
       "wine_servings       0.0160      0.001     15.797      0.000       0.014       0.018\n",
       "spirit_servings     0.0156      0.001     17.787      0.000       0.014       0.017\n",
       "==============================================================================\n",
       "Omnibus:                      298.001   Durbin-Watson:                   1.956\n",
       "Prob(Omnibus):                  0.000   Jarque-Bera (JB):             3187.492\n",
       "Skew:                           3.394   Prob(JB):                         0.00\n",
       "Kurtosis:                      15.333   Cond. No.                         289.\n",
       "==============================================================================\n",
       "\n",
       "Warnings:\n",
       "[1] Standard Errors assume that the covariance matrix of the errors is correctly specified.\n",
       "\"\"\""
      ]
     },
     "execution_count": 25,
     "metadata": {},
     "output_type": "execute_result"
    }
   ],
   "source": [
    "model = ols(\"total_litres_of_pure_alcohol ~ beer_servings + wine_servings + spirit_servings\t\", df).fit()\n",
    "\n",
    "# Print the summary\n",
    "model.summary()\n",
    "# the model explains 87.2% of the variation in the data! (R-squared = 0.872)\n",
    "# we also observe other properties"
   ]
  },
  {
   "cell_type": "code",
   "execution_count": 26,
   "metadata": {},
   "outputs": [
    {
     "data": {
      "text/plain": [
       "Intercept          0.722450\n",
       "beer_servings      0.018303\n",
       "wine_servings      0.016005\n",
       "spirit_servings    0.015558\n",
       "dtype: float64"
      ]
     },
     "execution_count": 26,
     "metadata": {},
     "output_type": "execute_result"
    }
   ],
   "source": [
    "# features of interests\n",
    "model.params\n",
    "# we see the corresponding coefficients for the columns used in the model"
   ]
  },
  {
   "cell_type": "code",
   "execution_count": 27,
   "metadata": {},
   "outputs": [
    {
     "name": "stdout",
     "output_type": "stream",
     "text": [
      "Standard errors:  Intercept          0.104963\n",
      "beer_servings      0.000881\n",
      "wine_servings      0.001013\n",
      "spirit_servings    0.000875\n",
      "dtype: float64\n"
     ]
    }
   ],
   "source": [
    "# the standard errors of the model\n",
    "print('Standard errors: ', model.bse)"
   ]
  },
  {
   "cell_type": "code",
   "execution_count": null,
   "metadata": {},
   "outputs": [],
   "source": []
  }
 ],
 "metadata": {
  "kernelspec": {
   "display_name": "Python 3",
   "language": "python",
   "name": "python3"
  },
  "language_info": {
   "codemirror_mode": {
    "name": "ipython",
    "version": 3
   },
   "file_extension": ".py",
   "mimetype": "text/x-python",
   "name": "python",
   "nbconvert_exporter": "python",
   "pygments_lexer": "ipython3",
   "version": "3.7.4"
  }
 },
 "nbformat": 4,
 "nbformat_minor": 2
}
